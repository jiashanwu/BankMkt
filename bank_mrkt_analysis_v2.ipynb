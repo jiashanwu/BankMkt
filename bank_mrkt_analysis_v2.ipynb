{
 "cells": [
  {
   "cell_type": "markdown",
   "metadata": {},
   "source": [
    "## Machine Learning and Deep Learning with more features"
   ]
  },
  {
   "cell_type": "markdown",
   "metadata": {},
   "source": [
    "In this file, I make more prediction attempts with more features. Specifically, I apply the \"other\" and \"econ\" features in predictions."
   ]
  },
  {
   "cell_type": "code",
   "execution_count": 2,
   "metadata": {},
   "outputs": [],
   "source": [
    "import os\n",
    "import pandas as pd\n",
    "import math\n",
    "import numpy as np\n",
    "import plotly.graph_objects as go\n",
    "from plotly.subplots import make_subplots\n",
    "import plotly.express as px\n",
    "from sklearn.model_selection import train_test_split\n",
    "from sklearn.preprocessing import OneHotEncoder\n",
    "from sklearn.preprocessing import LabelEncoder\n",
    "\n",
    "from sklearn.linear_model import LogisticRegression\n",
    "from sklearn.ensemble import RandomForestClassifier\n",
    "from sklearn import svm\n",
    "from sklearn.ensemble import GradientBoostingClassifier\n",
    "from sklearn.svm import SVC\n",
    "from sklearn.ensemble import BaggingClassifier\n",
    "from sklearn.metrics import classification_report\n",
    "from sklearn.model_selection import GridSearchCV\n",
    "\n",
    "from keras.models import Sequential\n",
    "from keras.layers import Dense"
   ]
  },
  {
   "cell_type": "code",
   "execution_count": 3,
   "metadata": {},
   "outputs": [],
   "source": [
    "# set up the work directory\n",
    "cwd = os.getcwd()\n",
    "os.chdir(cwd)\n",
    "\n",
    "df = pd.read_csv('bank-additional\\\\bank-additional.csv', delimiter = \";\")"
   ]
  },
  {
   "cell_type": "markdown",
   "metadata": {},
   "source": [
    "One of these features pdays might need to be cleaned. First, we find out all unique values of this feature."
   ]
  },
  {
   "cell_type": "code",
   "execution_count": 4,
   "metadata": {},
   "outputs": [
    {
     "data": {
      "text/plain": [
       "array([999,  12,   3,   6,   5,   2,  10,  11,   7,   1,  18,   4,  15,\n",
       "         0,  16,   9,  19,  17,  13,  21,  14], dtype=int64)"
      ]
     },
     "execution_count": 4,
     "metadata": {},
     "output_type": "execute_result"
    }
   ],
   "source": [
    "df.pdays.unique()"
   ]
  },
  {
   "cell_type": "code",
   "execution_count": 7,
   "metadata": {},
   "outputs": [],
   "source": [
    "# pdays_1: day_0: no contact before; day_1: previous contact <= 10 days; day_2: previous contact > 10 days\n",
    "df['pdays_1'] = np.where(df.pdays == 999, 'day_0',\n",
    "                        np.where(df.pdays <= 10, 'day_1', 'day_2'))\n",
    "df.drop('pdays', axis = 1, inplace = True)"
   ]
  },
  {
   "cell_type": "code",
   "execution_count": 9,
   "metadata": {},
   "outputs": [
    {
     "data": {
      "text/plain": [
       "{'age': 'num',\n",
       " 'job': 'cat',\n",
       " 'marital': 'cat',\n",
       " 'education': 'cat',\n",
       " 'default': 'cat',\n",
       " 'housing': 'cat',\n",
       " 'loan': 'cat',\n",
       " 'contact': 'cat',\n",
       " 'month': 'cat',\n",
       " 'day_of_week': 'cat',\n",
       " 'duration': 'num',\n",
       " 'campaign': 'num',\n",
       " 'previous': 'cat',\n",
       " 'poutcome': 'cat',\n",
       " 'emp.var.rate': 'cat',\n",
       " 'cons.price.idx': 'cat',\n",
       " 'cons.conf.idx': 'num',\n",
       " 'euribor3m': 'num',\n",
       " 'nr.employed': 'num',\n",
       " 'y': 'num',\n",
       " 'pdays_1': 'cat'}"
      ]
     },
     "execution_count": 9,
     "metadata": {},
     "output_type": "execute_result"
    }
   ],
   "source": [
    "all_features = df.columns\n",
    "\n",
    "# the features can be categorized following subgroups:\n",
    "# client-specific, other and economics variables\n",
    "client = all_features[0:11]\n",
    "other = all_features[11:15]\n",
    "econ = all_features[16:20]\n",
    "\n",
    "# manually input the property of each feature: categorical/numeric variable?\n",
    "num_features = ['age', 'duration', 'campaign']\n",
    "num_features.extend(econ)\n",
    "\n",
    "# save feature property in a dict\n",
    "prop = {}\n",
    "for i in all_features:\n",
    "    if i in num_features:\n",
    "        prop[i] = 'num'\n",
    "    else:\n",
    "        prop[i] = 'cat'\n",
    "        \n",
    "prop"
   ]
  },
  {
   "cell_type": "code",
   "execution_count": 12,
   "metadata": {},
   "outputs": [],
   "source": [
    "# encoding features\n",
    "def encoder_x(df, prop):\n",
    "    \n",
    "    output = df.copy()\n",
    "    for i in df.columns:\n",
    "        if prop[i] == 'cat':\n",
    "            temp = pd.get_dummies(df[i], prefix = i, prefix_sep = '_', drop_first = True)\n",
    "            output= pd.concat([output, temp], axis = 1)\n",
    "            output.drop(i, axis = 1, inplace = True)\n",
    "        \n",
    "    return(output)\n",
    "\n",
    "# encoding predicted labels\n",
    "def encoder_y(y):\n",
    "    \n",
    "    le = LabelEncoder()\n",
    "    le.fit(y)\n",
    "    y_enc = le.transform(y)\n",
    "    \n",
    "    return(y_enc)\n",
    "\n",
    "def model_output(X_enc, y_enc, model):\n",
    "    \n",
    "    X_train, X_test, y_train, y_test = train_test_split(X_enc, y_enc, test_size = 0.2, random_state = 1)\n",
    "    \n",
    "    if model == 'log':\n",
    "        clf = LogisticRegression(random_state = 1, max_iter = 2000).fit(X_train, y_train)\n",
    "    elif model == 'rfc':\n",
    "        clf = RandomForestClassifier(n_estimators = 100, oob_score = True, random_state = 1).fit(X_train, y_train)\n",
    "    elif model == 'svc':\n",
    "        clf = svm.SVC().fit(X_train, y_train)\n",
    "    elif model == 'bag':\n",
    "        clf = BaggingClassifier(base_estimator = SVC(), n_estimators = 20, random_state = 0).fit(X_train, y_train)\n",
    "    elif model == 'bos':\n",
    "        clf = GradientBoostingClassifier(random_state = 0).fit(X_train, y_train)\n",
    "    else:\n",
    "        return(None)\n",
    "    \n",
    "    y_pred = clf.predict(X_test)\n",
    "    report = classification_report(y_test, y_pred, output_dict = True)\n",
    "    acr, prec, recl, fscr = report['accuracy'], report['1']['precision'], report['1']['recall'], report['1']['f1-score']\n",
    "    d = {'name': [model], 'acr': [acr], 'prec': [prec], 'recl': [recl], 'fsc':[fscr]}\n",
    "    output = pd.DataFrame(d)\n",
    "    \n",
    "    return(output)"
   ]
  },
  {
   "cell_type": "code",
   "execution_count": 13,
   "metadata": {},
   "outputs": [],
   "source": [
    "X, y = df.drop('y', axis = 1), df['y']\n",
    "X_enc, y_enc = encoder_x(X, prop), encoder_y(y)"
   ]
  },
  {
   "cell_type": "code",
   "execution_count": 15,
   "metadata": {},
   "outputs": [
    {
     "data": {
      "text/html": [
       "<div>\n",
       "<style scoped>\n",
       "    .dataframe tbody tr th:only-of-type {\n",
       "        vertical-align: middle;\n",
       "    }\n",
       "\n",
       "    .dataframe tbody tr th {\n",
       "        vertical-align: top;\n",
       "    }\n",
       "\n",
       "    .dataframe thead th {\n",
       "        text-align: right;\n",
       "    }\n",
       "</style>\n",
       "<table border=\"1\" class=\"dataframe\">\n",
       "  <thead>\n",
       "    <tr style=\"text-align: right;\">\n",
       "      <th></th>\n",
       "      <th>name</th>\n",
       "      <th>acr</th>\n",
       "      <th>prec</th>\n",
       "      <th>recl</th>\n",
       "      <th>fsc</th>\n",
       "    </tr>\n",
       "  </thead>\n",
       "  <tbody>\n",
       "    <tr>\n",
       "      <th>0</th>\n",
       "      <td>log</td>\n",
       "      <td>0.919903</td>\n",
       "      <td>0.593220</td>\n",
       "      <td>0.454545</td>\n",
       "      <td>0.514706</td>\n",
       "    </tr>\n",
       "    <tr>\n",
       "      <th>0</th>\n",
       "      <td>rfc</td>\n",
       "      <td>0.915049</td>\n",
       "      <td>0.577778</td>\n",
       "      <td>0.337662</td>\n",
       "      <td>0.426230</td>\n",
       "    </tr>\n",
       "    <tr>\n",
       "      <th>0</th>\n",
       "      <td>svc</td>\n",
       "      <td>0.905340</td>\n",
       "      <td>0.000000</td>\n",
       "      <td>0.000000</td>\n",
       "      <td>0.000000</td>\n",
       "    </tr>\n",
       "    <tr>\n",
       "      <th>0</th>\n",
       "      <td>bag</td>\n",
       "      <td>0.905340</td>\n",
       "      <td>0.000000</td>\n",
       "      <td>0.000000</td>\n",
       "      <td>0.000000</td>\n",
       "    </tr>\n",
       "    <tr>\n",
       "      <th>0</th>\n",
       "      <td>bos</td>\n",
       "      <td>0.923544</td>\n",
       "      <td>0.612903</td>\n",
       "      <td>0.493506</td>\n",
       "      <td>0.546763</td>\n",
       "    </tr>\n",
       "  </tbody>\n",
       "</table>\n",
       "</div>"
      ],
      "text/plain": [
       "  name       acr      prec      recl       fsc\n",
       "0  log  0.919903  0.593220  0.454545  0.514706\n",
       "0  rfc  0.915049  0.577778  0.337662  0.426230\n",
       "0  svc  0.905340  0.000000  0.000000  0.000000\n",
       "0  bag  0.905340  0.000000  0.000000  0.000000\n",
       "0  bos  0.923544  0.612903  0.493506  0.546763"
      ]
     },
     "execution_count": 15,
     "metadata": {},
     "output_type": "execute_result"
    }
   ],
   "source": [
    "li = ['log', 'rfc', 'svc', 'bag', 'bos']\n",
    "perf = pd.DataFrame()\n",
    "\n",
    "for i in li:\n",
    "    temp = model_output(X_enc, y_enc, i)\n",
    "    perf = perf.append(temp)\n",
    "    \n",
    "perf"
   ]
  },
  {
   "cell_type": "markdown",
   "metadata": {},
   "source": [
    "The F-1 score improves significantly with the newly added features. Note that the precison and recall become zero with SVC and Bagging since all predictions are 0 (not success)."
   ]
  },
  {
   "cell_type": "code",
   "execution_count": 16,
   "metadata": {},
   "outputs": [],
   "source": [
    "def gridcv(X_enc, y_enc, model, tuned_parameters):\n",
    "    \n",
    "    X_train, X_test, y_train, y_test = train_test_split(X_enc, y_enc, test_size = 0.2, random_state = 1)\n",
    "    \n",
    "    if model == 'log':\n",
    "        m = LogisticRegression(random_state = 1, max_iter = 2000)\n",
    "    elif model == 'rfc':\n",
    "        m = RandomForestClassifier(n_estimators = 100, oob_score = True, random_state = 1)\n",
    "    elif model == 'svc':\n",
    "        m = svm.SVC()\n",
    "    elif model == 'bag':\n",
    "        m = BaggingClassifier(base_estimator = SVC(), n_estimators = 20, random_state = 0)\n",
    "    elif model == 'bos':\n",
    "        m = GradientBoostingClassifier(random_state = 0)\n",
    "    else:\n",
    "        return(None)\n",
    "    \n",
    "    clf = GridSearchCV(m, tuned_parameters, scoring='precision_macro')\n",
    "    clf.fit(X_train, y_train)\n",
    "    y_pred = clf.predict(X_test)\n",
    "    report = classification_report(y_test, y_pred, output_dict = True)\n",
    "    acr, prec, recl, fscr = report['accuracy'], report['1']['precision'], report['1']['recall'], report['1']['f1-score']\n",
    "    d = {'name': [model], 'best_para': [clf.best_params_], 'acr': [acr], 'prec': [prec], \n",
    "         'recl': [recl], 'fsc':[fscr]}\n",
    "    output = pd.DataFrame(d)\n",
    "    \n",
    "    return(output)"
   ]
  },
  {
   "cell_type": "code",
   "execution_count": 17,
   "metadata": {},
   "outputs": [
    {
     "data": {
      "text/html": [
       "<div>\n",
       "<style scoped>\n",
       "    .dataframe tbody tr th:only-of-type {\n",
       "        vertical-align: middle;\n",
       "    }\n",
       "\n",
       "    .dataframe tbody tr th {\n",
       "        vertical-align: top;\n",
       "    }\n",
       "\n",
       "    .dataframe thead th {\n",
       "        text-align: right;\n",
       "    }\n",
       "</style>\n",
       "<table border=\"1\" class=\"dataframe\">\n",
       "  <thead>\n",
       "    <tr style=\"text-align: right;\">\n",
       "      <th></th>\n",
       "      <th>name</th>\n",
       "      <th>best_para</th>\n",
       "      <th>acr</th>\n",
       "      <th>prec</th>\n",
       "      <th>recl</th>\n",
       "      <th>fsc</th>\n",
       "    </tr>\n",
       "  </thead>\n",
       "  <tbody>\n",
       "    <tr>\n",
       "      <th>0</th>\n",
       "      <td>log</td>\n",
       "      <td>{'C': 0.1}</td>\n",
       "      <td>0.923544</td>\n",
       "      <td>0.629630</td>\n",
       "      <td>0.441558</td>\n",
       "      <td>0.519084</td>\n",
       "    </tr>\n",
       "    <tr>\n",
       "      <th>0</th>\n",
       "      <td>rfc</td>\n",
       "      <td>{'max_features': 'log2'}</td>\n",
       "      <td>0.915049</td>\n",
       "      <td>0.577778</td>\n",
       "      <td>0.337662</td>\n",
       "      <td>0.426230</td>\n",
       "    </tr>\n",
       "    <tr>\n",
       "      <th>0</th>\n",
       "      <td>bos</td>\n",
       "      <td>{'n_estimators': 50}</td>\n",
       "      <td>0.923544</td>\n",
       "      <td>0.625000</td>\n",
       "      <td>0.454545</td>\n",
       "      <td>0.526316</td>\n",
       "    </tr>\n",
       "  </tbody>\n",
       "</table>\n",
       "</div>"
      ],
      "text/plain": [
       "  name                 best_para       acr      prec      recl       fsc\n",
       "0  log                {'C': 0.1}  0.923544  0.629630  0.441558  0.519084\n",
       "0  rfc  {'max_features': 'log2'}  0.915049  0.577778  0.337662  0.426230\n",
       "0  bos      {'n_estimators': 50}  0.923544  0.625000  0.454545  0.526316"
      ]
     },
     "execution_count": 17,
     "metadata": {},
     "output_type": "execute_result"
    }
   ],
   "source": [
    "li = ['log', 'rfc', 'bos']\n",
    "perf = pd.DataFrame()\n",
    "tuned_parameters_set = {'log':{'C': [0.1, 1, 10]}, 'rfc':{'max_features': ['auto', 'log2']}, \n",
    "                       'bos':{'n_estimators': [50, 100, 200]}}\n",
    "\n",
    "for i in li:\n",
    "    \n",
    "    tuned_parameters = tuned_parameters_set[i]\n",
    "    temp = gridcv(X_enc, y_enc, i, tuned_parameters)\n",
    "    perf = perf.append(temp)\n",
    "    \n",
    "perf"
   ]
  },
  {
   "cell_type": "code",
   "execution_count": 18,
   "metadata": {},
   "outputs": [
    {
     "name": "stdout",
     "output_type": "stream",
     "text": [
      "WARNING:tensorflow:From C:\\Users\\jiash\\anaconda3\\lib\\site-packages\\tensorflow\\python\\ops\\nn_impl.py:180: add_dispatch_support.<locals>.wrapper (from tensorflow.python.ops.array_ops) is deprecated and will be removed in a future version.\n",
      "Instructions for updating:\n",
      "Use tf.where in 2.0, which has the same broadcast rule as np.where\n",
      "WARNING:tensorflow:From C:\\Users\\jiash\\anaconda3\\lib\\site-packages\\keras\\backend\\tensorflow_backend.py:422: The name tf.global_variables is deprecated. Please use tf.compat.v1.global_variables instead.\n",
      "\n",
      "Epoch 1/10\n",
      "3295/3295 [==============================] - 1s 411us/step - loss: 1.5757 - accuracy: 0.8610\n",
      "Epoch 2/10\n",
      "3295/3295 [==============================] - 1s 279us/step - loss: 0.4122 - accuracy: 0.8771\n",
      "Epoch 3/10\n",
      "3295/3295 [==============================] - 1s 408us/step - loss: 0.3742 - accuracy: 0.8792\n",
      "Epoch 4/10\n",
      "3295/3295 [==============================] - 2s 590us/step - loss: 0.3173 - accuracy: 0.8877\n",
      "Epoch 5/10\n",
      "3295/3295 [==============================] - 1s 447us/step - loss: 0.3282 - accuracy: 0.8962\n",
      "Epoch 6/10\n",
      "3295/3295 [==============================] - 2s 518us/step - loss: 0.3401 - accuracy: 0.8923\n",
      "Epoch 7/10\n",
      "3295/3295 [==============================] - 1s 376us/step - loss: 0.3454 - accuracy: 0.8907\n",
      "Epoch 8/10\n",
      "3295/3295 [==============================] - ETA: 0s - loss: 0.3435 - accuracy: 0.89 - 2s 495us/step - loss: 0.3428 - accuracy: 0.8935\n",
      "Epoch 9/10\n",
      "3295/3295 [==============================] - 2s 471us/step - loss: 0.3279 - accuracy: 0.8938\n",
      "Epoch 10/10\n",
      "3295/3295 [==============================] - 2s 462us/step - loss: 0.3409 - accuracy: 0.8889\n"
     ]
    },
    {
     "data": {
      "text/plain": [
       "<keras.callbacks.callbacks.History at 0x24d75cfdb88>"
      ]
     },
     "execution_count": 18,
     "metadata": {},
     "output_type": "execute_result"
    }
   ],
   "source": [
    "X_train, X_test, y_train, y_test = train_test_split(X_enc, y_enc, test_size = 0.2, random_state = 1)\n",
    "\n",
    "model = Sequential()\n",
    "model.add(Dense(12, input_dim = X_train.shape[1], activation = 'relu'))\n",
    "model.add(Dense(8, activation = 'relu'))\n",
    "model.add(Dense(1, activation = 'sigmoid'))\n",
    "\n",
    "model.compile(loss = 'binary_crossentropy', optimizer = 'adam', metrics = ['accuracy'])\n",
    "\n",
    "model.fit(X_train, y_train, epochs = 10, batch_size = 10)"
   ]
  },
  {
   "cell_type": "code",
   "execution_count": 19,
   "metadata": {},
   "outputs": [
    {
     "data": {
      "text/html": [
       "<div>\n",
       "<style scoped>\n",
       "    .dataframe tbody tr th:only-of-type {\n",
       "        vertical-align: middle;\n",
       "    }\n",
       "\n",
       "    .dataframe tbody tr th {\n",
       "        vertical-align: top;\n",
       "    }\n",
       "\n",
       "    .dataframe thead th {\n",
       "        text-align: right;\n",
       "    }\n",
       "</style>\n",
       "<table border=\"1\" class=\"dataframe\">\n",
       "  <thead>\n",
       "    <tr style=\"text-align: right;\">\n",
       "      <th></th>\n",
       "      <th>name</th>\n",
       "      <th>acr</th>\n",
       "      <th>prec</th>\n",
       "      <th>recl</th>\n",
       "      <th>fsc</th>\n",
       "    </tr>\n",
       "  </thead>\n",
       "  <tbody>\n",
       "    <tr>\n",
       "      <th>0</th>\n",
       "      <td>NN</td>\n",
       "      <td>0.907767</td>\n",
       "      <td>0.505618</td>\n",
       "      <td>0.584416</td>\n",
       "      <td>0.542169</td>\n",
       "    </tr>\n",
       "  </tbody>\n",
       "</table>\n",
       "</div>"
      ],
      "text/plain": [
       "  name       acr      prec      recl       fsc\n",
       "0   NN  0.907767  0.505618  0.584416  0.542169"
      ]
     },
     "execution_count": 19,
     "metadata": {},
     "output_type": "execute_result"
    }
   ],
   "source": [
    "y_pred = model.predict(X_test)\n",
    "y_pred = np.round(y_pred)\n",
    "report = classification_report(y_test, y_pred, output_dict = True)\n",
    "acr, prec, recl, fscr = report['accuracy'], report['1']['precision'], report['1']['recall'], report['1']['f1-score']\n",
    "d = {'name': 'NN', 'acr': [acr], 'prec': [prec], \n",
    "     'recl': [recl], 'fsc':[fscr]}\n",
    "output = pd.DataFrame(d)\n",
    "output"
   ]
  },
  {
   "cell_type": "markdown",
   "metadata": {},
   "source": [
    "The NN model has further improvement in F1 score by trading off some precision, as compared with xgboost."
   ]
  }
 ],
 "metadata": {
  "kernelspec": {
   "display_name": "Python 3",
   "language": "python",
   "name": "python3"
  },
  "language_info": {
   "codemirror_mode": {
    "name": "ipython",
    "version": 3
   },
   "file_extension": ".py",
   "mimetype": "text/x-python",
   "name": "python",
   "nbconvert_exporter": "python",
   "pygments_lexer": "ipython3",
   "version": "3.7.6"
  }
 },
 "nbformat": 4,
 "nbformat_minor": 4
}
